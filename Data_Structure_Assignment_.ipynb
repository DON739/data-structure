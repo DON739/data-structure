{
  "cells": [
    {
      "cell_type": "markdown",
      "id": "949631a6",
      "metadata": {
        "id": "949631a6"
      },
      "source": [
        "Data Types and Structures Assignment 2"
      ]
    },
    {
      "cell_type": "markdown",
      "id": "f72ad8dd",
      "metadata": {
        "id": "f72ad8dd"
      },
      "source": [
        "1. What are data structures, and why are they important3\n",
        "\n",
        "A data structure is a method of organizing and storing data to enable efficient access and manipulation.\n",
        "\n",
        ". Memory Management: Reducing space usage and avoiding redundant data storage.\n",
        "\n",
        ". Ensuring faster processing of tasks by organizing data effectively.\n",
        "\n",
        ". Problem Solving: Representing complex relationships and scenarios in an understandable way (e.g., trees for hierarchical data, graphs for networks)."
      ]
    },
    {
      "cell_type": "markdown",
      "id": "383a061c",
      "metadata": {
        "id": "383a061c"
      },
      "source": [
        "2. Explain the difference between mutable and immutable data types with examples.\n",
        "\n",
        ">> Mutable vs Immutable Data Types\n",
        "\n",
        ". Mutable Data Types: These are data types whose values can be changed after creation.\n",
        "\n",
        ". Immutable Data Types: These are data types whose values cannot be altered once they are created."
      ]
    },
    {
      "cell_type": "code",
      "execution_count": null,
      "id": "1c9d630a",
      "metadata": {
        "id": "1c9d630a",
        "outputId": "e77cfae8-901b-4c1b-d224-f742fbb0b3c5"
      },
      "outputs": [
        {
          "data": {
            "text/plain": [
              "[10, 2, 3]"
            ]
          },
          "execution_count": 1,
          "metadata": {},
          "output_type": "execute_result"
        }
      ],
      "source": [
        "# Mutable data types\n",
        "My_list=[1,2,3,]\n",
        "My_list[0]=10\n",
        "My_list"
      ]
    },
    {
      "cell_type": "code",
      "execution_count": null,
      "id": "a8177ade",
      "metadata": {
        "id": "a8177ade",
        "outputId": "a44536c6-1b18-4fb8-93d2-e2eb7fa13933"
      },
      "outputs": [
        {
          "data": {
            "text/plain": [
              "'hello world'"
            ]
          },
          "execution_count": 2,
          "metadata": {},
          "output_type": "execute_result"
        }
      ],
      "source": [
        "# Immutable data types\n",
        "my_string = \"hello\"\n",
        "my_string = my_string + \" world\"\n",
        "my_string\n"
      ]
    },
    {
      "cell_type": "markdown",
      "id": "d88bcef4",
      "metadata": {
        "id": "d88bcef4"
      },
      "source": [
        "3. What are the main differences between lists and tuples in Python.\n",
        "\n",
        "List\n",
        "You can store anything in list, it can store hetrogenous data.\n",
        "\n",
        "List is a ordered collection of elements that can be of any data type.\n",
        "\n",
        "List is a mutable values can be changed after creation\n",
        "\n",
        "Defined with square brackets [ ]\n",
        "\n",
        "Performance\tSlower due to mutability\n",
        "\n",
        "Supports more built-in methods (like append, remove)\n",
        "\n",
        "Consumes more memory\n",
        "\n",
        "Tuple>>\n",
        "\n",
        "You can store anything in list, it can store hetrogenous data.\n",
        "\n",
        "Tuple is a Immutable values can not be changed after creation\n",
        "\n",
        "Defined with parentheses ( )\n",
        "\n",
        "Used for fixed or constant data\n",
        "\n",
        "Limited methods (e.g., count, index)\n",
        "\n",
        "Consumes less memory"
      ]
    },
    {
      "cell_type": "markdown",
      "id": "1484c14c",
      "metadata": {
        "id": "1484c14c"
      },
      "source": [
        "4. Describe how dictionaries store data.\n",
        "\n",
        "Dictionaries in Python store data as key-value pairs, making them highly efficient for accessing values using keys.\n",
        "\n",
        "my_dict = {\"name\": \"Alice\", \"age\": 25}"
      ]
    },
    {
      "cell_type": "markdown",
      "id": "bec833d2",
      "metadata": {
        "id": "bec833d2"
      },
      "source": [
        "5.Why might you use a set instead of a list in Python.\n",
        "\n",
        ".Sets automatically remove duplicate elements.\n",
        "\n",
        ". Sets support mathematical operations like union, intersection, difference, and symmetric difference, which are not natively available for lists."
      ]
    },
    {
      "cell_type": "markdown",
      "id": "6846e767",
      "metadata": {
        "id": "6846e767"
      },
      "source": [
        "6. How do tuples ensure data integrity in Python.\n",
        "\n",
        "Tuples ensure data integrity in Python 3 through their immutability. Once a tuple is created, its elements cannot be modified, added, or removed. This immutability provides stability and prevents accidental changes to the data, making tuples an excellent choice for scenarios where data must remain consistent.\n",
        "\n",
        "Features\n",
        "\n",
        "Once initialized, you cannot alter the elements, ensuring the original data remains intact.\n",
        "\n",
        "Tuples consume less memory compared to lists, reducing the risk of unnecessary data duplication."
      ]
    },
    {
      "cell_type": "markdown",
      "id": "0da70ad9",
      "metadata": {
        "id": "0da70ad9"
      },
      "source": [
        "7. What is a string in Python, and how is it different from a list\n",
        "\n",
        "In Python, a string is a sequence of characters enclosed in either single quotes ' ', double quotes \" \", or triple quotes ''' ''' or \"\"\" \"\"\". Strings are used to represent text and are immutable, meaning their values cannot be changed after they are created.\n",
        "\n",
        "String\n",
        "\n",
        ". Contains only characters (text)\n",
        ". Immutable (cannot be modified)\n",
        ". Enclosed in quotes\n",
        ". Can be accessed using indexing (str[0])\n",
        "\n",
        "List\n",
        "\n",
        ". A collection of items\n",
        ". Mutable (can be modified)\n",
        ". Can contain any data type (e.g., int, str)\n",
        ". Enclosed in square brackets [ ]\n",
        ". Can also be accessed using indexing\n",
        "\n"
      ]
    },
    {
      "cell_type": "markdown",
      "id": "af314bbb",
      "metadata": {
        "id": "af314bbb"
      },
      "source": [
        "8. What is a hash table, and how does it relate to dictionaries in Python.\n",
        "\n",
        "A hash table is a data structure that stores key-value pairs and uses a hash function to compute an index where values are stored, allowing fast lookups.\n",
        "\n",
        "In Python, dictionaries use hash tables to store key-value pairs. Keys are hashed to find their location, ensuring quick operations like search, insert, and delete.\n",
        "\n"
      ]
    },
    {
      "cell_type": "markdown",
      "id": "141c79a1",
      "metadata": {
        "id": "141c79a1"
      },
      "source": [
        "\n",
        "9. Can lists contain different data types in Python.\n",
        "\n",
        " Yes, in Python, lists can contain elements of different data types. For example:\n",
        "\n",
        "my_list = [42, \"hello\", 3.14, True]"
      ]
    },
    {
      "cell_type": "markdown",
      "id": "f992fb4c",
      "metadata": {
        "id": "f992fb4c"
      },
      "source": [
        "10. Explain why strings are immutable in Python.\n",
        "\n",
        "Strings are immutable in Python because once a string is created, it cannot be changed. This design choice has several benefits:\n",
        "\n",
        ">>. Efficiency: Since strings are widely used, immutability makes operations faster and memory-efficient. Python can safely reuse the same string in memory without creating duplicates."
      ]
    },
    {
      "cell_type": "markdown",
      "id": "945fd1e1",
      "metadata": {
        "id": "945fd1e1"
      },
      "source": [
        "11. What advantages do dictionaries offer over lists for certain tasks\n",
        "\n",
        "Dictionaries offer several advantages over lists for specific tasks:\n",
        "\n",
        ">> Fast Lookups: Dictionaries let you quickly find values using keys. Lists take longer because they search item by item.\n",
        "\n",
        ">>Key-Value Storage: Dictionaries pair keys with values, making data easier to organize (e.g., names linked to phone numbers).\n",
        "\n",
        ">>No Order Needed: Dictionaries don’t care about order, which is great when it’s not important."
      ]
    },
    {
      "cell_type": "markdown",
      "id": "a2ebaee3",
      "metadata": {
        "id": "a2ebaee3"
      },
      "source": [
        "12. Describe a scenario where using a tuple would be preferable over a list.\n",
        "\n",
        "Use a tuple instead of a list when you need a fixed and unchangeable set of items. Tuples can't be modified (immutable), ensuring data stays secure and making them faster than lists for certain tasks. For example, storing coordinates like (28.6139, 77.2090) ensures they remain accurate."
      ]
    },
    {
      "cell_type": "markdown",
      "id": "b590b292",
      "metadata": {
        "id": "b590b292"
      },
      "source": [
        "13. How do sets handle duplicate values in Python.\n",
        "\n",
        "In Python, sets automatically remove duplicate values. When you add items to a set, any duplicates are ignored, ensuring that all elements are unique.\n"
      ]
    },
    {
      "cell_type": "markdown",
      "id": "e856d31f",
      "metadata": {
        "id": "e856d31f"
      },
      "source": [
        "14. How does the “in” keyword work differently for lists and dictionaries.\n",
        "\n",
        "The in keyword works differently for lists and dictionaries in Python:\n",
        "\n",
        "The in keyword checks if a value exists as an element in the list.\n",
        "\n",
        "The in keyword checks if a key exists in the dictionary, not the values."
      ]
    },
    {
      "cell_type": "markdown",
      "id": "21d59177",
      "metadata": {
        "id": "21d59177"
      },
      "source": [
        "15. Can you modify the elements of a tuple? Explain why or why not.\n",
        "\n",
        "No, you cannot modify the elements of a tuple in Python because tuples are immutable. Once a tuple is created, its contents cannot be changed, added, or removed. This immutability makes tuples safer when you want to ensure data remains constant and unaltered."
      ]
    },
    {
      "cell_type": "markdown",
      "id": "8b75d2de",
      "metadata": {
        "id": "8b75d2de"
      },
      "source": [
        "16. What is a nested dictionary, and give an example of its use case.\n",
        "\n",
        "A nested dictionary is a dictionary where one or more values are themselves dictionaries. It is useful for storing complex, hierarchical data structures.\n",
        "\n",
        "employees = {\n",
        "    \"John\": {\"age\": 30, \"department\": \"IT\", \"role\": \"Developer\"},\n",
        "    \"Emma\": {\"age\": 27, \"department\": \"HR\", \"role\": \"Manager\"},\n",
        "    \"Sanjay\": {\"age\": 35, \"department\": \"Finance\", \"role\": \"Analyst\"}"
      ]
    },
    {
      "cell_type": "markdown",
      "id": "e535e92a",
      "metadata": {
        "id": "e535e92a"
      },
      "source": [
        "17. Describe the time complexity of accessing elements in a dictionaryP\n",
        "\n",
        "\n",
        "Accessing elements in a dictionary in Python has an average time complexity of O(1). This is because dictionaries are implemented using hash tables, allowing keys to be hashed directly to their memory locations."
      ]
    },
    {
      "cell_type": "markdown",
      "id": "37dd7dc5",
      "metadata": {
        "id": "37dd7dc5"
      },
      "source": [
        "18. In what situations are lists preferred over dictionaries\n",
        "\n",
        "Lists are preferred over dictionaries when:\n",
        "\n",
        "Order Matters: Lists maintain the order of elements, which is useful for tasks like sorting or sequential operations.\n",
        "\n",
        "Simple Data: Use lists when you only need to store a collection of values without associating them with keys.\n",
        "\n",
        "Duplicate Items: Lists allow duplicates, unlike dictionaries where keys must be unique.\n",
        "\n",
        "Iteration: Lists are simpler and faster for tasks requiring repeated access to elements in order."
      ]
    },
    {
      "cell_type": "markdown",
      "id": "1c3f4cda",
      "metadata": {
        "id": "1c3f4cda"
      },
      "source": [
        "19. Why are dictionaries considered unordered, and how does that affect data retrieval3\n",
        "\n",
        "Dictionaries are considered unordered because their elements are stored based on hashed keys, not in a specific sequence. This means you can’t rely on the order of items. However, data retrieval is still fast, as values are accessed directly using their keys, not by position.\n",
        "\n"
      ]
    },
    {
      "cell_type": "markdown",
      "id": "cdca7dda",
      "metadata": {
        "id": "cdca7dda"
      },
      "source": [
        "20. Explain the difference between a list and a dictionary in terms of data retrieval.\n",
        "\n",
        "Lists: Data is retrieved by index (position), such as my_list[0] for the first item.\n",
        "\n",
        "Dictionaries: Data is retrieved by key, such as my_dict[\"name\"]."
      ]
    },
    {
      "cell_type": "markdown",
      "id": "3bda75d6",
      "metadata": {
        "id": "3bda75d6"
      },
      "source": [
        "Practical questions :-"
      ]
    },
    {
      "cell_type": "code",
      "execution_count": 2,
      "id": "6b6bd6d0",
      "metadata": {
        "colab": {
          "base_uri": "https://localhost:8080/"
        },
        "id": "6b6bd6d0",
        "outputId": "5dc8f0af-1a9c-4f62-b75a-9a060984c971"
      },
      "outputs": [
        {
          "output_type": "stream",
          "name": "stdout",
          "text": [
            "Dark\n"
          ]
        }
      ],
      "source": [
        "1. ## Write a code to create a string with your name and print it\n",
        "\n",
        "Name=\"Dark\"\n",
        "print(\"Dark\")\n"
      ]
    },
    {
      "cell_type": "code",
      "execution_count": null,
      "id": "9a29ece4",
      "metadata": {
        "id": "9a29ece4",
        "outputId": "2253108d-a5f6-450d-98bd-5c2de727b4a8"
      },
      "outputs": [
        {
          "data": {
            "text/plain": [
              "11"
            ]
          },
          "execution_count": 3,
          "metadata": {},
          "output_type": "execute_result"
        }
      ],
      "source": [
        "2. ## Write a code to find the length of the string \"Hello World\"\n",
        "\n",
        "Python= \"Hello world\"\n",
        "len(Python)"
      ]
    },
    {
      "cell_type": "code",
      "execution_count": null,
      "id": "20a844ec",
      "metadata": {
        "id": "20a844ec",
        "outputId": "62412afd-a21b-412a-d68a-3dfccd567480"
      },
      "outputs": [
        {
          "data": {
            "text/plain": [
              "'pyt'"
            ]
          },
          "execution_count": 4,
          "metadata": {},
          "output_type": "execute_result"
        }
      ],
      "source": [
        "3. ## Write a code to slice the first 3 characters from the string \"Python Programming\"\n",
        "\n",
        "Code= \"python programming\"\n",
        "Code[:3]\n"
      ]
    },
    {
      "cell_type": "code",
      "execution_count": null,
      "id": "9d762c9d",
      "metadata": {
        "id": "9d762c9d",
        "outputId": "6c504df4-78d7-4999-b90e-c1776653443f"
      },
      "outputs": [
        {
          "data": {
            "text/plain": [
              "'HELLO'"
            ]
          },
          "execution_count": 5,
          "metadata": {},
          "output_type": "execute_result"
        }
      ],
      "source": [
        "4. ## Write a code to convert the string \"hello\" to uppercase.\n",
        "b1=\"hello\"\n",
        "b1.upper()\n"
      ]
    },
    {
      "cell_type": "code",
      "execution_count": null,
      "id": "af0e17e5",
      "metadata": {
        "id": "af0e17e5",
        "outputId": "b3f6f68a-bc1c-4cbc-c570-e9ac6a6ae48f"
      },
      "outputs": [
        {
          "data": {
            "text/plain": [
              "'I like orange'"
            ]
          },
          "execution_count": 12,
          "metadata": {},
          "output_type": "execute_result"
        }
      ],
      "source": [
        "5. ## Write a code to replace the word \"apple\" with \"orange\" in the string \"I like apple\"\n",
        "\n",
        "fruit= \"I like apple\"\n",
        "fruit=fruit.replace(\"apple\",\"orange\")\n",
        "fruit\n"
      ]
    },
    {
      "cell_type": "code",
      "execution_count": null,
      "id": "ec031a40",
      "metadata": {
        "id": "ec031a40",
        "outputId": "c39cf518-8336-445d-ce81-e93316e767ef"
      },
      "outputs": [
        {
          "name": "stdout",
          "output_type": "stream",
          "text": [
            "[1, 2, 3, 4, 5]\n"
          ]
        }
      ],
      "source": [
        "6. ## Write a code to create a list with numbers 1 to 5 and print it.\n",
        "\n",
        "list1=[1,2,3,4,5]\n",
        "print(list1)\n"
      ]
    },
    {
      "cell_type": "code",
      "execution_count": null,
      "id": "0da8f5fb",
      "metadata": {
        "id": "0da8f5fb",
        "outputId": "5d163c62-46a4-4eb5-c504-bfa81e5befc3"
      },
      "outputs": [
        {
          "data": {
            "text/plain": [
              "[1, 2, 3, 4, 10]"
            ]
          },
          "execution_count": 17,
          "metadata": {},
          "output_type": "execute_result"
        }
      ],
      "source": [
        "7. ## Write a code to append the number 10 to the list [1, 2, 3, 4]\n",
        "\n",
        "list2=[1,2,3,4]\n",
        "list2.append(10)\n",
        "list2\n"
      ]
    },
    {
      "cell_type": "code",
      "execution_count": null,
      "id": "a8a32734",
      "metadata": {
        "id": "a8a32734",
        "outputId": "440fbeea-bed6-42d6-9b31-f1378a90d20b"
      },
      "outputs": [
        {
          "data": {
            "text/plain": [
              "[1, 2, 4, 5]"
            ]
          },
          "execution_count": 18,
          "metadata": {},
          "output_type": "execute_result"
        }
      ],
      "source": [
        "8. ## Write a code to remove the number 3 from the list [1, 2, 3, 4, 5]\n",
        "list= [1,2,3,4,5]\n",
        "list.remove(3)\n",
        "list\n"
      ]
    },
    {
      "cell_type": "code",
      "execution_count": null,
      "id": "847d26a4",
      "metadata": {
        "id": "847d26a4",
        "outputId": "d92a9a8a-1d1d-4cc6-e9f4-c3255184b406"
      },
      "outputs": [
        {
          "name": "stdout",
          "output_type": "stream",
          "text": [
            "b\n"
          ]
        }
      ],
      "source": [
        "9. ## Write a code to access the second element in the list ['a', 'b', 'c', 'd']\n",
        "my_list= ['a', 'b', 'c', 'd']\n",
        "my_list[1]\n",
        "print(my_list[1])"
      ]
    },
    {
      "cell_type": "code",
      "execution_count": null,
      "id": "358b8981",
      "metadata": {
        "id": "358b8981",
        "outputId": "c2a86968-1f5b-4983-8c05-34985207a6ed"
      },
      "outputs": [
        {
          "data": {
            "text/plain": [
              "[50, 40, 30, 20, 10]"
            ]
          },
          "execution_count": 25,
          "metadata": {},
          "output_type": "execute_result"
        }
      ],
      "source": [
        "10. ## Write a code to reverse the list [10, 20, 30, 40, 50]\n",
        "\n",
        "list=[10, 20, 30, 40, 50]\n",
        "list.reverse()\n",
        "list"
      ]
    },
    {
      "cell_type": "code",
      "execution_count": null,
      "id": "96bc01b4",
      "metadata": {
        "id": "96bc01b4",
        "outputId": "d7cb9946-d00e-4da2-9c96-ef6b695ed219"
      },
      "outputs": [
        {
          "name": "stdout",
          "output_type": "stream",
          "text": [
            "(100, 200, 300)\n"
          ]
        }
      ],
      "source": [
        "11. ## Write a code to create a tuple with the elements 100, 200, 300 and print it.\n",
        "\n",
        "tuple= (100,200,300)\n",
        "print(tuple)"
      ]
    },
    {
      "cell_type": "code",
      "execution_count": null,
      "id": "0280e54a",
      "metadata": {
        "id": "0280e54a",
        "outputId": "44554d72-1c4f-4c73-c688-c00430913016"
      },
      "outputs": [
        {
          "data": {
            "text/plain": [
              "'blue'"
            ]
          },
          "execution_count": 28,
          "metadata": {},
          "output_type": "execute_result"
        }
      ],
      "source": [
        "12. ## Write a code to access the second-to-last element of the tuple ('red', 'green', 'blue', 'yellow')\n",
        "\n",
        "t1= ('red', 'green', 'blue', 'yellow')\n",
        "t1[-2]\n"
      ]
    },
    {
      "cell_type": "code",
      "execution_count": null,
      "id": "e7b50e63",
      "metadata": {
        "id": "e7b50e63",
        "outputId": "95c0aa20-3b64-4a24-e62c-598206d53fa9"
      },
      "outputs": [
        {
          "data": {
            "text/plain": [
              "5"
            ]
          },
          "execution_count": 29,
          "metadata": {},
          "output_type": "execute_result"
        }
      ],
      "source": [
        "13. ## Write a code to find the minimum number in the tuple (10, 20, 5, 15)\n",
        "t2=(10, 20, 5, 15)\n",
        "min(t2)"
      ]
    },
    {
      "cell_type": "code",
      "execution_count": null,
      "id": "85a3e15c",
      "metadata": {
        "id": "85a3e15c",
        "outputId": "9cfb89c9-eb65-4b3d-d478-1e6eb19e0136"
      },
      "outputs": [
        {
          "data": {
            "text/plain": [
              "1"
            ]
          },
          "execution_count": 30,
          "metadata": {},
          "output_type": "execute_result"
        }
      ],
      "source": [
        "14. ## Write a code to find the index of the element \"cat\" in the tuple ('dog', 'cat', 'rabbit').\n",
        "t3=('dog', 'cat', 'rabbit')\n",
        "t3.index(\"cat\")"
      ]
    },
    {
      "cell_type": "code",
      "execution_count": null,
      "id": "0247c773",
      "metadata": {
        "id": "0247c773",
        "outputId": "aaf16cfb-0d4d-4b07-a85f-49a8bd6020d4"
      },
      "outputs": [
        {
          "data": {
            "text/plain": [
              "False"
            ]
          },
          "execution_count": 33,
          "metadata": {},
          "output_type": "execute_result"
        }
      ],
      "source": [
        "15. ## Write a code to create a tuple containing three different fruits and check if \"kiwi\" is in it.\n",
        "\n",
        "fruits=(\"banana\",\"apple\",\"cherry\")\n",
        "\"kiwi\" in fruits"
      ]
    },
    {
      "cell_type": "code",
      "execution_count": null,
      "id": "6c08f1ed",
      "metadata": {
        "id": "6c08f1ed",
        "outputId": "3c78dc65-f44d-45e5-ef7f-33c2e17e904a"
      },
      "outputs": [
        {
          "name": "stdout",
          "output_type": "stream",
          "text": [
            "{'c', 'a', 'b'}\n"
          ]
        }
      ],
      "source": [
        "16. ## Write a code to create a set with the elements 'a', 'b', 'c' and print it.\n",
        "\n",
        "set={'a','b','c'}\n",
        "print(set)"
      ]
    },
    {
      "cell_type": "code",
      "execution_count": null,
      "id": "f8618ad0",
      "metadata": {
        "id": "f8618ad0",
        "outputId": "2836f0f8-45d8-43c0-92ce-99841ba611c4"
      },
      "outputs": [
        {
          "data": {
            "text/plain": [
              "set()"
            ]
          },
          "execution_count": 36,
          "metadata": {},
          "output_type": "execute_result"
        }
      ],
      "source": [
        "17. ## Write a code to clear all elements from the set {1, 2, 3, 4, 5}\n",
        "\n",
        "set1= {1, 2, 3, 4, 5}\n",
        "set1.clear()\n",
        "set1"
      ]
    },
    {
      "cell_type": "code",
      "execution_count": null,
      "id": "65dd8a46",
      "metadata": {
        "id": "65dd8a46",
        "outputId": "919996c7-bb6c-463f-f0d9-e4f5295040fd"
      },
      "outputs": [
        {
          "data": {
            "text/plain": [
              "{1, 2, 3}"
            ]
          },
          "execution_count": 37,
          "metadata": {},
          "output_type": "execute_result"
        }
      ],
      "source": [
        "18. ## Write a code to remove the element 4 from the set {1, 2, 3, 4}\n",
        "\n",
        "set1= {1, 2, 3, 4}\n",
        "set1.remove(4)\n",
        "set1"
      ]
    },
    {
      "cell_type": "code",
      "execution_count": null,
      "id": "811a04b9",
      "metadata": {
        "id": "811a04b9",
        "outputId": "dac80178-6154-4ebe-ced7-101f092cd777"
      },
      "outputs": [
        {
          "data": {
            "text/plain": [
              "{1, 2, 3, 4, 5}"
            ]
          },
          "execution_count": 39,
          "metadata": {},
          "output_type": "execute_result"
        }
      ],
      "source": [
        "19. ## Write a code to find the union of two sets {1, 2, 3} and {3, 4, 5}\n",
        "\n",
        "sets1 = {1, 2, 3}\n",
        "sets2= {3, 4, 5}\n",
        "sets= set1.union(sets2)\n",
        "sets"
      ]
    },
    {
      "cell_type": "code",
      "execution_count": null,
      "id": "cfd46d51",
      "metadata": {
        "id": "cfd46d51",
        "outputId": "02255a01-b126-49dc-a307-64e8f0a88bda"
      },
      "outputs": [
        {
          "data": {
            "text/plain": [
              "{2, 3}"
            ]
          },
          "execution_count": 41,
          "metadata": {},
          "output_type": "execute_result"
        }
      ],
      "source": [
        "20 ## Write a code to find the intersection of two sets {1, 2, 3} and {2, 3, 4}.\n",
        "\n",
        "sets1= {1, 2, 3}\n",
        "sets2= {2, 3, 4}\n",
        "sets=set1.intersection(sets2)\n",
        "sets"
      ]
    },
    {
      "cell_type": "code",
      "execution_count": 3,
      "id": "c8388e77",
      "metadata": {
        "colab": {
          "base_uri": "https://localhost:8080/"
        },
        "id": "c8388e77",
        "outputId": "5d23aa50-a821-48da-bb79-c5e1b34df74e"
      },
      "outputs": [
        {
          "output_type": "stream",
          "name": "stdout",
          "text": [
            "{'Name': 'Dark', 'Age': '21', 'City': 'gwalior'}\n"
          ]
        }
      ],
      "source": [
        "21. ## 21. Write a code to create a dictionary with the keys \"name\", \"age\", and \"city\", and print it.\n",
        "\n",
        "dict={\"Name\": \"Dark\",\"Age\":\"21\",\"City\": \"gwalior\"}\n",
        "print(dict)"
      ]
    },
    {
      "cell_type": "code",
      "execution_count": null,
      "id": "12f57351",
      "metadata": {
        "id": "12f57351",
        "outputId": "dc19db14-89bd-45d4-b198-93188af6c2b8"
      },
      "outputs": [
        {
          "data": {
            "text/plain": [
              "{'name': 'John', 'age': 25, 'country': 'USA'}"
            ]
          },
          "execution_count": 46,
          "metadata": {},
          "output_type": "execute_result"
        }
      ],
      "source": [
        "22. ## Write a code to add a new key-value pair \"country\": \"USA\" to the dictionary {'name': 'John', 'age': 25}\n",
        "\n",
        "my_dict= {'name': 'John', 'age': 25}\n",
        "my_dict[\"country\"]=\"USA\"\n",
        "my_dict"
      ]
    },
    {
      "cell_type": "code",
      "execution_count": null,
      "id": "48babab4",
      "metadata": {
        "id": "48babab4",
        "outputId": "5722ac5f-5a7d-4d5d-e8c1-2ebd63b797ea"
      },
      "outputs": [
        {
          "data": {
            "text/plain": [
              "'Alice'"
            ]
          },
          "execution_count": 49,
          "metadata": {},
          "output_type": "execute_result"
        }
      ],
      "source": [
        "23. ## Write a code to access the value associated with the key \"name\" in the dictionary {'name': 'Alice', 'age': 30}\n",
        "dictionary= {'name': 'Alice', 'age': 30}\n",
        "dictionary['name']"
      ]
    },
    {
      "cell_type": "code",
      "execution_count": null,
      "id": "05ccaada",
      "metadata": {
        "id": "05ccaada",
        "outputId": "fd778974-3a4b-4709-cc82-c1bdb09c8e7d"
      },
      "outputs": [
        {
          "data": {
            "text/plain": [
              "{'name': 'Bob', 'city': 'New York'}"
            ]
          },
          "execution_count": 51,
          "metadata": {},
          "output_type": "execute_result"
        }
      ],
      "source": [
        "24. ## Write a code to remove the key \"age\" from the dictionary {'name': 'Bob', 'age': 22, 'city': 'New York'}\n",
        "dict1= {'name': 'Bob', 'age': 22, 'city': 'New York'}\n",
        "dict1.pop('age')\n",
        "dict1"
      ]
    },
    {
      "cell_type": "code",
      "execution_count": null,
      "id": "ee065964",
      "metadata": {
        "id": "ee065964",
        "outputId": "b6380ed4-916e-44f5-a71c-24bcb133658f"
      },
      "outputs": [
        {
          "name": "stdout",
          "output_type": "stream",
          "text": [
            "The key city exists! \n"
          ]
        }
      ],
      "source": [
        "25. ## Write a code to check if the key \"city\" exists in the dictionary {'name': 'Alice', 'city': 'Paris'}\n",
        "\n",
        "dict2= {'name': 'Alice', 'city': 'Paris'}\n",
        "if 'city' in dict2:\n",
        "    print('The key city exists! ')\n",
        "else:\n",
        "    print('The key city does not exist')"
      ]
    },
    {
      "cell_type": "code",
      "execution_count": 5,
      "id": "38143abb",
      "metadata": {
        "colab": {
          "base_uri": "https://localhost:8080/"
        },
        "id": "38143abb",
        "outputId": "09695d55-822b-4bab-d131-3a03791e5cc8"
      },
      "outputs": [
        {
          "output_type": "stream",
          "name": "stdout",
          "text": [
            "{'name': ['sanjay', 'ajay', 1, 2], 'email': 'donhu228234e@gmail.com', 'contact': '454570945093'}\n"
          ]
        }
      ],
      "source": [
        "26. ## Write a code to create a list, a tuple, and a dictionary, and print them all.\n",
        "\n",
        "d={\"name\":[\"sanjay\",\"ajay\",1,2],\"email\":\"donhu228234e@gmail.com\",\"contact\":(\"454570945093\")}\n",
        "print(d)\n",
        "\n"
      ]
    },
    {
      "cell_type": "code",
      "execution_count": null,
      "id": "377b170f",
      "metadata": {
        "id": "377b170f",
        "outputId": "f83768f4-a37d-43ef-b697-5818f0ca3ba7"
      },
      "outputs": [
        {
          "name": "stdout",
          "output_type": "stream",
          "text": [
            "[1, 6, 11, 16, 21, 26, 31, 36, 41, 46, 51, 56, 61, 66, 71, 76, 81, 86, 91, 96]\n"
          ]
        }
      ],
      "source": [
        "27. ## Write a code to create a list of 5 random numbers between 1 and 100, sort it in ascending order, and print the result.(replaced)\n",
        "\n",
        "random_numbers = list(range(1, 101, 5))\n",
        "random_numbers.sort()\n",
        "print(random_numbers)"
      ]
    },
    {
      "cell_type": "code",
      "execution_count": null,
      "id": "e965c2a5",
      "metadata": {
        "id": "e965c2a5",
        "outputId": "df8861b1-44cb-49c9-ba9e-e602b6c4de80"
      },
      "outputs": [
        {
          "name": "stdout",
          "output_type": "stream",
          "text": [
            "date\n"
          ]
        }
      ],
      "source": [
        "28. ## Write a code to create a list with strings and print the element at the third index.\n",
        "\n",
        "my_list = [\"apple\", \"banana\", \"cherry\", \"date\", \"elderberry\"]\n",
        "print(my_list[3])"
      ]
    },
    {
      "cell_type": "code",
      "execution_count": null,
      "id": "4ba44a80",
      "metadata": {
        "id": "4ba44a80",
        "outputId": "11e840d1-3e78-48ca-a485-1b8c3f928977"
      },
      "outputs": [
        {
          "name": "stdout",
          "output_type": "stream",
          "text": [
            "{'name': 'Alice', 'age': 25, 'city': 'New York', 'country': 'USA'}\n"
          ]
        }
      ],
      "source": [
        "29. ## Write a code to combine two dictionaries into one and print the result.\n",
        "\n",
        "dict1 = {'name': 'Alice', 'age': 25}\n",
        "dict2 = {'city': 'New York', 'country': 'USA'}\n",
        "dict1.update(dict2)\n",
        "print(dict1)\n"
      ]
    },
    {
      "cell_type": "code",
      "execution_count": 7,
      "id": "2f692a2a",
      "metadata": {
        "colab": {
          "base_uri": "https://localhost:8080/"
        },
        "id": "2f692a2a",
        "outputId": "b19f82c4-dbaa-4adb-a951-c19e23c6ff0d"
      },
      "outputs": [
        {
          "output_type": "stream",
          "name": "stdout",
          "text": [
            "<class 'set'>\n"
          ]
        }
      ],
      "source": [
        "30. ## Write a code to convert a list of strings into a set.\n",
        "fruits= [\"apple\", \"banana\", \"cherry\", \"date\", \"elderberry\"]\n",
        "fruits= set(fruits)\n",
        "print(type(fruits))\n"
      ]
    },
    {
      "cell_type": "code",
      "source": [],
      "metadata": {
        "id": "WStIs2eeS1SW"
      },
      "id": "WStIs2eeS1SW",
      "execution_count": null,
      "outputs": []
    }
  ],
  "metadata": {
    "kernelspec": {
      "display_name": "Python 3",
      "language": "python",
      "name": "python3"
    },
    "language_info": {
      "codemirror_mode": {
        "name": "ipython",
        "version": 3
      },
      "file_extension": ".py",
      "mimetype": "text/x-python",
      "name": "python",
      "nbconvert_exporter": "python",
      "pygments_lexer": "ipython3",
      "version": "3.12.2"
    },
    "colab": {
      "provenance": []
    }
  },
  "nbformat": 4,
  "nbformat_minor": 5
}